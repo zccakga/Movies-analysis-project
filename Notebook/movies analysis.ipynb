{
 "cells": [
  {
   "cell_type": "markdown",
   "metadata": {},
   "source": [
    "# Best films in every genre\n",
    "\n",
    "## *An analysis of a movie ratings dataset*"
   ]
  },
  {
   "cell_type": "code",
   "execution_count": 1,
   "metadata": {},
   "outputs": [],
   "source": [
    "%matplotlib inline\n",
    "import numpy as np\n",
    "import pandas as pd\n",
    "import matplotlib as plt"
   ]
  },
  {
   "cell_type": "markdown",
   "metadata": {},
   "source": [
    "<h3>Acquiring dataset</h3>\n",
    "\n",
    "Here are the links to the data source and location:\n",
    "* **Data Source:** MovieLens web site (filename: ml-20m.zip)\n",
    "* **Location:** https://grouplens.org/datasets/movielens/"
   ]
  },
  {
   "cell_type": "code",
   "execution_count": 2,
   "metadata": {},
   "outputs": [
    {
     "name": "stdout",
     "output_type": "stream",
     "text": [
      "README.txt        genome-tags.csv   movies.csv        tags.csv\r\n",
      "genome-scores.csv links.csv         ratings.csv\r\n"
     ]
    }
   ],
   "source": [
    "!ls ./database_from_movielens"
   ]
  },
  {
   "cell_type": "code",
   "execution_count": 233,
   "metadata": {},
   "outputs": [
    {
     "data": {
      "text/html": [
       "<div>\n",
       "<style scoped>\n",
       "    .dataframe tbody tr th:only-of-type {\n",
       "        vertical-align: middle;\n",
       "    }\n",
       "\n",
       "    .dataframe tbody tr th {\n",
       "        vertical-align: top;\n",
       "    }\n",
       "\n",
       "    .dataframe thead th {\n",
       "        text-align: right;\n",
       "    }\n",
       "</style>\n",
       "<table border=\"1\" class=\"dataframe\">\n",
       "  <thead>\n",
       "    <tr style=\"text-align: right;\">\n",
       "      <th></th>\n",
       "      <th>movieId</th>\n",
       "      <th>title</th>\n",
       "      <th>genres</th>\n",
       "    </tr>\n",
       "  </thead>\n",
       "  <tbody>\n",
       "    <tr>\n",
       "      <th>0</th>\n",
       "      <td>1</td>\n",
       "      <td>Toy Story (1995)</td>\n",
       "      <td>Adventure|Animation|Children|Comedy|Fantasy</td>\n",
       "    </tr>\n",
       "    <tr>\n",
       "      <th>1</th>\n",
       "      <td>2</td>\n",
       "      <td>Jumanji (1995)</td>\n",
       "      <td>Adventure|Children|Fantasy</td>\n",
       "    </tr>\n",
       "    <tr>\n",
       "      <th>2</th>\n",
       "      <td>3</td>\n",
       "      <td>Grumpier Old Men (1995)</td>\n",
       "      <td>Comedy|Romance</td>\n",
       "    </tr>\n",
       "    <tr>\n",
       "      <th>3</th>\n",
       "      <td>4</td>\n",
       "      <td>Waiting to Exhale (1995)</td>\n",
       "      <td>Comedy|Drama|Romance</td>\n",
       "    </tr>\n",
       "    <tr>\n",
       "      <th>4</th>\n",
       "      <td>5</td>\n",
       "      <td>Father of the Bride Part II (1995)</td>\n",
       "      <td>Comedy</td>\n",
       "    </tr>\n",
       "  </tbody>\n",
       "</table>\n",
       "</div>"
      ],
      "text/plain": [
       "   movieId                               title  \\\n",
       "0        1                    Toy Story (1995)   \n",
       "1        2                      Jumanji (1995)   \n",
       "2        3             Grumpier Old Men (1995)   \n",
       "3        4            Waiting to Exhale (1995)   \n",
       "4        5  Father of the Bride Part II (1995)   \n",
       "\n",
       "                                        genres  \n",
       "0  Adventure|Animation|Children|Comedy|Fantasy  \n",
       "1                   Adventure|Children|Fantasy  \n",
       "2                               Comedy|Romance  \n",
       "3                         Comedy|Drama|Romance  \n",
       "4                                       Comedy  "
      ]
     },
     "execution_count": 233,
     "metadata": {},
     "output_type": "execute_result"
    }
   ],
   "source": [
    "movies=pd.read_csv('./database_from_movielens/movies.csv',sep=',')\n",
    "movies.head(5)"
   ]
  },
  {
   "cell_type": "code",
   "execution_count": 4,
   "metadata": {},
   "outputs": [
    {
     "data": {
      "text/plain": [
       "(1743, 3)"
      ]
     },
     "execution_count": 4,
     "metadata": {},
     "output_type": "execute_result"
    }
   ],
   "source": [
    "#Extract only the movies that are in the sci-fi category\n",
    "sci_movies_filter=movies['genres'].str.contains('Sci-Fi')\n",
    "movies[sci_movies_filter].shape"
   ]
  },
  {
   "cell_type": "code",
   "execution_count": 5,
   "metadata": {},
   "outputs": [
    {
     "data": {
      "text/html": [
       "<div>\n",
       "<style scoped>\n",
       "    .dataframe tbody tr th:only-of-type {\n",
       "        vertical-align: middle;\n",
       "    }\n",
       "\n",
       "    .dataframe tbody tr th {\n",
       "        vertical-align: top;\n",
       "    }\n",
       "\n",
       "    .dataframe thead th {\n",
       "        text-align: right;\n",
       "    }\n",
       "</style>\n",
       "<table border=\"1\" class=\"dataframe\">\n",
       "  <thead>\n",
       "    <tr style=\"text-align: right;\">\n",
       "      <th></th>\n",
       "      <th>userId</th>\n",
       "      <th>movieId</th>\n",
       "      <th>tag</th>\n",
       "      <th>timestamp</th>\n",
       "    </tr>\n",
       "  </thead>\n",
       "  <tbody>\n",
       "    <tr>\n",
       "      <th>0</th>\n",
       "      <td>18</td>\n",
       "      <td>4141</td>\n",
       "      <td>Mark Waters</td>\n",
       "      <td>1240597180</td>\n",
       "    </tr>\n",
       "    <tr>\n",
       "      <th>1</th>\n",
       "      <td>65</td>\n",
       "      <td>208</td>\n",
       "      <td>dark hero</td>\n",
       "      <td>1368150078</td>\n",
       "    </tr>\n",
       "    <tr>\n",
       "      <th>2</th>\n",
       "      <td>65</td>\n",
       "      <td>353</td>\n",
       "      <td>dark hero</td>\n",
       "      <td>1368150079</td>\n",
       "    </tr>\n",
       "    <tr>\n",
       "      <th>3</th>\n",
       "      <td>65</td>\n",
       "      <td>521</td>\n",
       "      <td>noir thriller</td>\n",
       "      <td>1368149983</td>\n",
       "    </tr>\n",
       "    <tr>\n",
       "      <th>4</th>\n",
       "      <td>65</td>\n",
       "      <td>592</td>\n",
       "      <td>dark hero</td>\n",
       "      <td>1368150078</td>\n",
       "    </tr>\n",
       "  </tbody>\n",
       "</table>\n",
       "</div>"
      ],
      "text/plain": [
       "   userId  movieId            tag   timestamp\n",
       "0      18     4141    Mark Waters  1240597180\n",
       "1      65      208      dark hero  1368150078\n",
       "2      65      353      dark hero  1368150079\n",
       "3      65      521  noir thriller  1368149983\n",
       "4      65      592      dark hero  1368150078"
      ]
     },
     "execution_count": 5,
     "metadata": {},
     "output_type": "execute_result"
    }
   ],
   "source": [
    "tags=pd.read_csv('./database_from_movielens/tags.csv',sep=',')\n",
    "tags.head()"
   ]
  },
  {
   "cell_type": "code",
   "execution_count": 6,
   "metadata": {},
   "outputs": [
    {
     "data": {
      "text/html": [
       "<div>\n",
       "<style scoped>\n",
       "    .dataframe tbody tr th:only-of-type {\n",
       "        vertical-align: middle;\n",
       "    }\n",
       "\n",
       "    .dataframe tbody tr th {\n",
       "        vertical-align: top;\n",
       "    }\n",
       "\n",
       "    .dataframe thead th {\n",
       "        text-align: right;\n",
       "    }\n",
       "</style>\n",
       "<table border=\"1\" class=\"dataframe\">\n",
       "  <thead>\n",
       "    <tr style=\"text-align: right;\">\n",
       "      <th></th>\n",
       "      <th>userId</th>\n",
       "      <th>movieId</th>\n",
       "      <th>rating</th>\n",
       "      <th>timestamp</th>\n",
       "    </tr>\n",
       "  </thead>\n",
       "  <tbody>\n",
       "    <tr>\n",
       "      <th>0</th>\n",
       "      <td>1</td>\n",
       "      <td>2</td>\n",
       "      <td>3.5</td>\n",
       "      <td>1112486027</td>\n",
       "    </tr>\n",
       "    <tr>\n",
       "      <th>1</th>\n",
       "      <td>1</td>\n",
       "      <td>29</td>\n",
       "      <td>3.5</td>\n",
       "      <td>1112484676</td>\n",
       "    </tr>\n",
       "    <tr>\n",
       "      <th>2</th>\n",
       "      <td>1</td>\n",
       "      <td>32</td>\n",
       "      <td>3.5</td>\n",
       "      <td>1112484819</td>\n",
       "    </tr>\n",
       "    <tr>\n",
       "      <th>3</th>\n",
       "      <td>1</td>\n",
       "      <td>47</td>\n",
       "      <td>3.5</td>\n",
       "      <td>1112484727</td>\n",
       "    </tr>\n",
       "    <tr>\n",
       "      <th>4</th>\n",
       "      <td>1</td>\n",
       "      <td>50</td>\n",
       "      <td>3.5</td>\n",
       "      <td>1112484580</td>\n",
       "    </tr>\n",
       "  </tbody>\n",
       "</table>\n",
       "</div>"
      ],
      "text/plain": [
       "   userId  movieId  rating   timestamp\n",
       "0       1        2     3.5  1112486027\n",
       "1       1       29     3.5  1112484676\n",
       "2       1       32     3.5  1112484819\n",
       "3       1       47     3.5  1112484727\n",
       "4       1       50     3.5  1112484580"
      ]
     },
     "execution_count": 6,
     "metadata": {},
     "output_type": "execute_result"
    }
   ],
   "source": [
    "ratings=pd.read_csv('./database_from_movielens/ratings.csv',sep=',')\n",
    "ratings.head()"
   ]
  },
  {
   "cell_type": "code",
   "execution_count": 13,
   "metadata": {},
   "outputs": [
    {
     "data": {
      "text/plain": [
       "count    2.000026e+07\n",
       "mean     3.525529e+00\n",
       "std      1.051989e+00\n",
       "min      5.000000e-01\n",
       "25%      3.000000e+00\n",
       "50%      3.500000e+00\n",
       "75%      4.000000e+00\n",
       "max      5.000000e+00\n",
       "Name: rating, dtype: float64"
      ]
     },
     "execution_count": 13,
     "metadata": {},
     "output_type": "execute_result"
    }
   ],
   "source": [
    "ratings['rating'].describe()"
   ]
  },
  {
   "cell_type": "code",
   "execution_count": 252,
   "metadata": {},
   "outputs": [
    {
     "data": {
      "text/plain": [
       "sci-fi             3384\n",
       "based on a book    3281\n",
       "atmospheric        2917\n",
       "comedy             2779\n",
       "action             2657\n",
       "surreal            2427\n",
       "BD-R               2334\n",
       "twist ending       2323\n",
       "funny              2072\n",
       "dystopia           1991\n",
       "Name: tag, dtype: int64"
      ]
     },
     "execution_count": 252,
     "metadata": {},
     "output_type": "execute_result"
    }
   ],
   "source": [
    "tag_count=tags['tag'].value_counts()\n",
    "tag_count[:10]"
   ]
  },
  {
   "cell_type": "markdown",
   "metadata": {},
   "source": [
    "## Cleaning data"
   ]
  },
  {
   "cell_type": "code",
   "execution_count": 9,
   "metadata": {},
   "outputs": [
    {
     "data": {
      "text/plain": [
       "movieId    False\n",
       "title      False\n",
       "genres     False\n",
       "dtype: bool"
      ]
     },
     "execution_count": 9,
     "metadata": {},
     "output_type": "execute_result"
    }
   ],
   "source": [
    "#Check if any row is null in movies\n",
    "movies.isnull().any()"
   ]
  },
  {
   "cell_type": "code",
   "execution_count": 10,
   "metadata": {},
   "outputs": [
    {
     "data": {
      "text/plain": [
       "userId       False\n",
       "movieId      False\n",
       "rating       False\n",
       "timestamp    False\n",
       "dtype: bool"
      ]
     },
     "execution_count": 10,
     "metadata": {},
     "output_type": "execute_result"
    }
   ],
   "source": [
    "#Check if any row is null in ratings\n",
    "ratings.isnull().any()"
   ]
  },
  {
   "cell_type": "markdown",
   "metadata": {},
   "source": [
    "## Exploring the genres"
   ]
  },
  {
   "cell_type": "code",
   "execution_count": 254,
   "metadata": {},
   "outputs": [
    {
     "data": {
      "text/plain": [
       "['Adventure',\n",
       " 'Comedy',\n",
       " 'Western',\n",
       " 'Action',\n",
       " 'Film-Noir',\n",
       " 'IMAX',\n",
       " 'Fantasy',\n",
       " 'Documentary',\n",
       " 'Animation',\n",
       " 'Horror',\n",
       " 'Children',\n",
       " 'Mystery',\n",
       " 'Musical',\n",
       " 'War',\n",
       " 'Drama',\n",
       " 'Romance',\n",
       " 'Sci-Fi',\n",
       " 'Thriller',\n",
       " 'Crime']"
      ]
     },
     "execution_count": 254,
     "metadata": {},
     "output_type": "execute_result"
    }
   ],
   "source": [
    "#Find the unique genres\n",
    "movie_genres=movies['genres'].str.cat(sep=',')\n",
    "string_movie_genres=movie_genres.replace('|',',')\n",
    "list_movie_genres=string_movie_genres.split(',')\n",
    "unique_genres=list(set(list_movie_genres))\n",
    "unique_genres.remove('(no genres listed)')\n",
    "unique_genres"
   ]
  },
  {
   "cell_type": "code",
   "execution_count": 251,
   "metadata": {},
   "outputs": [
    {
     "data": {
      "text/html": [
       "<div>\n",
       "<style scoped>\n",
       "    .dataframe tbody tr th:only-of-type {\n",
       "        vertical-align: middle;\n",
       "    }\n",
       "\n",
       "    .dataframe tbody tr th {\n",
       "        vertical-align: top;\n",
       "    }\n",
       "\n",
       "    .dataframe thead th {\n",
       "        text-align: right;\n",
       "    }\n",
       "</style>\n",
       "<table border=\"1\" class=\"dataframe\">\n",
       "  <thead>\n",
       "    <tr style=\"text-align: right;\">\n",
       "      <th></th>\n",
       "      <th>Counts</th>\n",
       "    </tr>\n",
       "  </thead>\n",
       "  <tbody>\n",
       "    <tr>\n",
       "      <th>Drama</th>\n",
       "      <td>13344</td>\n",
       "    </tr>\n",
       "    <tr>\n",
       "      <th>Comedy</th>\n",
       "      <td>8374</td>\n",
       "    </tr>\n",
       "    <tr>\n",
       "      <th>Thriller</th>\n",
       "      <td>4178</td>\n",
       "    </tr>\n",
       "    <tr>\n",
       "      <th>Romance</th>\n",
       "      <td>4127</td>\n",
       "    </tr>\n",
       "    <tr>\n",
       "      <th>Action</th>\n",
       "      <td>3520</td>\n",
       "    </tr>\n",
       "    <tr>\n",
       "      <th>Crime</th>\n",
       "      <td>2939</td>\n",
       "    </tr>\n",
       "    <tr>\n",
       "      <th>Horror</th>\n",
       "      <td>2611</td>\n",
       "    </tr>\n",
       "    <tr>\n",
       "      <th>Documentary</th>\n",
       "      <td>2471</td>\n",
       "    </tr>\n",
       "    <tr>\n",
       "      <th>Adventure</th>\n",
       "      <td>2329</td>\n",
       "    </tr>\n",
       "    <tr>\n",
       "      <th>Sci-Fi</th>\n",
       "      <td>1743</td>\n",
       "    </tr>\n",
       "  </tbody>\n",
       "</table>\n",
       "</div>"
      ],
      "text/plain": [
       "             Counts\n",
       "Drama         13344\n",
       "Comedy         8374\n",
       "Thriller       4178\n",
       "Romance        4127\n",
       "Action         3520\n",
       "Crime          2939\n",
       "Horror         2611\n",
       "Documentary    2471\n",
       "Adventure      2329\n",
       "Sci-Fi         1743"
      ]
     },
     "execution_count": 251,
     "metadata": {},
     "output_type": "execute_result"
    }
   ],
   "source": [
    "#Find the number of counts for each genre\n",
    "count_dict={}\n",
    "for g in unique_genres:\n",
    "    counts=list_movie_genres.count(g)\n",
    "    count_dict[g]=counts\n",
    "genre_counts=pd.DataFrame.from_dict(count_dict,orient='index',columns=['Counts'])\n",
    "genre_counts.sort_values(by=['Counts'], inplace=True,ascending=False)\n",
    "genre_counts[:10]"
   ]
  },
  {
   "cell_type": "code",
   "execution_count": 163,
   "metadata": {},
   "outputs": [
    {
     "data": {
      "text/plain": [
       "(27032, 3)"
      ]
     },
     "execution_count": 163,
     "metadata": {},
     "output_type": "execute_result"
    }
   ],
   "source": [
    "#delete the rows in movies that have no genres listed\n",
    "no_genre_filter=movies['genres'].str.contains('no genres listed')==False\n",
    "movies=movies[no_genre_filter]\n",
    "movies.shape"
   ]
  },
  {
   "cell_type": "code",
   "execution_count": 158,
   "metadata": {},
   "outputs": [],
   "source": [
    "#find all the films that have been rated more than a hundred times\n",
    "rating_count=ratings[['movieId','rating']].groupby('movieId', as_index=False).count()\n",
    "rating_count_filter=rating_count['rating']>100"
   ]
  },
  {
   "cell_type": "code",
   "execution_count": 159,
   "metadata": {},
   "outputs": [],
   "source": [
    "#get the average rating for each movie and apply the rating count filter\n",
    "avg_ratings = ratings.groupby('movieId', as_index=False).mean() #Don't make movieId the index\n",
    "del avg_ratings['timestamp']\n",
    "del avg_ratings['userId']\n",
    "filt_avg_ratings=avg_ratings[rating_count_filter]"
   ]
  },
  {
   "cell_type": "code",
   "execution_count": 160,
   "metadata": {},
   "outputs": [
    {
     "data": {
      "text/html": [
       "<div>\n",
       "<style scoped>\n",
       "    .dataframe tbody tr th:only-of-type {\n",
       "        vertical-align: middle;\n",
       "    }\n",
       "\n",
       "    .dataframe tbody tr th {\n",
       "        vertical-align: top;\n",
       "    }\n",
       "\n",
       "    .dataframe thead th {\n",
       "        text-align: right;\n",
       "    }\n",
       "</style>\n",
       "<table border=\"1\" class=\"dataframe\">\n",
       "  <thead>\n",
       "    <tr style=\"text-align: right;\">\n",
       "      <th></th>\n",
       "      <th>movieId</th>\n",
       "      <th>title</th>\n",
       "      <th>genres</th>\n",
       "    </tr>\n",
       "  </thead>\n",
       "  <tbody>\n",
       "    <tr>\n",
       "      <th>0</th>\n",
       "      <td>1</td>\n",
       "      <td>Toy Story (1995)</td>\n",
       "      <td>Adventure|Animation|Children|Comedy|Fantasy</td>\n",
       "    </tr>\n",
       "    <tr>\n",
       "      <th>1</th>\n",
       "      <td>2</td>\n",
       "      <td>Jumanji (1995)</td>\n",
       "      <td>Adventure|Children|Fantasy</td>\n",
       "    </tr>\n",
       "    <tr>\n",
       "      <th>2</th>\n",
       "      <td>3</td>\n",
       "      <td>Grumpier Old Men (1995)</td>\n",
       "      <td>Comedy|Romance</td>\n",
       "    </tr>\n",
       "    <tr>\n",
       "      <th>3</th>\n",
       "      <td>4</td>\n",
       "      <td>Waiting to Exhale (1995)</td>\n",
       "      <td>Comedy|Drama|Romance</td>\n",
       "    </tr>\n",
       "    <tr>\n",
       "      <th>4</th>\n",
       "      <td>5</td>\n",
       "      <td>Father of the Bride Part II (1995)</td>\n",
       "      <td>Comedy</td>\n",
       "    </tr>\n",
       "  </tbody>\n",
       "</table>\n",
       "</div>"
      ],
      "text/plain": [
       "   movieId                               title  \\\n",
       "0        1                    Toy Story (1995)   \n",
       "1        2                      Jumanji (1995)   \n",
       "2        3             Grumpier Old Men (1995)   \n",
       "3        4            Waiting to Exhale (1995)   \n",
       "4        5  Father of the Bride Part II (1995)   \n",
       "\n",
       "                                        genres  \n",
       "0  Adventure|Animation|Children|Comedy|Fantasy  \n",
       "1                   Adventure|Children|Fantasy  \n",
       "2                               Comedy|Romance  \n",
       "3                         Comedy|Drama|Romance  \n",
       "4                                       Comedy  "
      ]
     },
     "execution_count": 160,
     "metadata": {},
     "output_type": "execute_result"
    }
   ],
   "source": [
    "movies.head()"
   ]
  },
  {
   "cell_type": "code",
   "execution_count": 164,
   "metadata": {},
   "outputs": [
    {
     "data": {
      "text/plain": [
       "(8532, 4)"
      ]
     },
     "execution_count": 164,
     "metadata": {},
     "output_type": "execute_result"
    }
   ],
   "source": [
    "#merge movies df and filtered average ratings df\n",
    "box_office=movies.merge(filt_avg_ratings,on='movieId',how='inner')\n",
    "box_office.shape"
   ]
  },
  {
   "cell_type": "code",
   "execution_count": 260,
   "metadata": {
    "scrolled": false
   },
   "outputs": [
    {
     "name": "stdout",
     "output_type": "stream",
     "text": [
      "Top 10 Adventure films: \n",
      "                                                   title    rating\n",
      "962              Monty Python and the Holy Grail (1975)  4.174146\n",
      "1002                         Princess Bride, The (1987)  4.176732\n",
      "1001  Star Wars: Episode V - The Empire Strikes Back...  4.188202\n",
      "239           Star Wars: Episode IV - A New Hope (1977)  4.190672\n",
      "4461  Spirited Away (Sen to Chihiro no kamikakushi) ...  4.203810\n",
      "2536                                     Yojimbo (1961)  4.211717\n",
      "1003  Raiders of the Lost Ark (Indiana Jones and the...  4.219009\n",
      "765                           North by Northwest (1959)  4.233538\n",
      "4677                City of God (Cidade de Deus) (2002)  4.235410\n",
      "1659        Seven Samurai (Shichinin no samurai) (1954)  4.274180\n",
      "\n",
      "Top 10 Comedy films: \n",
      "                                                   title    rating\n",
      "1037                                  Sting, The (1973)  4.173556\n",
      "2756                                 City Lights (1931)  4.174123\n",
      "962              Monty Python and the Holy Grail (1975)  4.174146\n",
      "273                                 Pulp Fiction (1994)  4.174231\n",
      "1919         Life Is Beautiful (La Vita è bella) (1997)  4.175837\n",
      "1002                         Princess Bride, The (1987)  4.176732\n",
      "965         Wallace & Gromit: The Wrong Trousers (1993)  4.181068\n",
      "806                                Thin Man, The (1934)  4.184187\n",
      "4048  Amelie (Fabuleux destin d'Amélie Poulain, Le) ...  4.197072\n",
      "655   Dr. Strangelove or: How I Learned to Stop Worr...  4.247287\n",
      "\n",
      "Top 10 Western films: \n",
      "                                                   title    rating\n",
      "1068                                  Unforgiven (1992)  3.988340\n",
      "2796                              Searchers, The (1956)  3.992951\n",
      "551                              Wild Bunch, The (1969)  4.004726\n",
      "8315                            Django Unchained (2012)  4.037893\n",
      "1105          Butch Cassidy and the Sundance Kid (1969)  4.053638\n",
      "691                                    Lone Star (1996)  4.074903\n",
      "1085                                   High Noon (1952)  4.075288\n",
      "1006  Good, the Bad and the Ugly, The (Buono, il bru...  4.123241\n",
      "1013  Once Upon a Time in the West (C'era una volta ...  4.128545\n",
      "1056           Treasure of the Sierra Madre, The (1948)  4.161397\n",
      "\n",
      "Top 10 Action films: \n",
      "                                                   title    rating\n",
      "1001  Star Wars: Episode V - The Empire Strikes Back...  4.188202\n",
      "239           Star Wars: Episode IV - A New Hope (1977)  4.190672\n",
      "2536                                     Yojimbo (1961)  4.211717\n",
      "1003  Raiders of the Lost Ark (Indiana Jones and the...  4.219009\n",
      "7243                            Dark Knight, The (2008)  4.220129\n",
      "2478                                  Fight Club (1999)  4.227123\n",
      "765                           North by Northwest (1959)  4.233538\n",
      "4677                City of God (Cidade de Deus) (2002)  4.235410\n",
      "5514                            Band of Brothers (2001)  4.263182\n",
      "1659        Seven Samurai (Shichinin no samurai) (1954)  4.274180\n",
      "\n",
      "Top 10 Film-Noir films: \n",
      "                                               title    rating\n",
      "1820                    Strangers on a Train (1951)  4.158615\n",
      "1050                           Touch of Evil (1958)  4.183022\n",
      "770                      Maltese Falcon, The (1941)  4.187212\n",
      "1062                                       M (1931)  4.193171\n",
      "786                                Notorious (1946)  4.197790\n",
      "1054                               Chinatown (1974)  4.199673\n",
      "1086                          Big Sleep, The (1946)  4.207361\n",
      "2849                        Double Indemnity (1944)  4.224282\n",
      "1016                          Third Man, The (1949)  4.246002\n",
      "779   Sunset Blvd. (a.k.a. Sunset Boulevard) (1950)  4.256935\n",
      "\n",
      "Top 10 IMAX films: \n",
      "                                                   title    rating\n",
      "8110                               Avengers, The (2012)  3.949486\n",
      "8078  Harry Potter and the Deathly Hallows: Part 2 (...  3.950665\n",
      "7554                                   Star Trek (2009)  3.964434\n",
      "6448                               Batman Begins (2005)  3.970754\n",
      "8160                      Dark Knight Rises, The (2012)  4.000210\n",
      "7794                    How to Train Your Dragon (2010)  4.000420\n",
      "7847                                 Toy Story 3 (2010)  4.012974\n",
      "8464                                Interstellar (2014)  4.023864\n",
      "7863                                   Inception (2010)  4.156172\n",
      "7243                            Dark Knight, The (2008)  4.220129\n",
      "\n",
      "Top 10 Fantasy films: \n",
      "                                                   title    rating\n",
      "6333  Howl's Moving Castle (Hauru no ugoku shiro) (2...  4.066078\n",
      "5317  Nausicaä of the Valley of the Wind (Kaze no ta...  4.092082\n",
      "2513           Princess Mononoke (Mononoke-hime) (1997)  4.096299\n",
      "4636      Lord of the Rings: The Two Towers, The (2002)  4.107521\n",
      "4063  Lord of the Rings: The Fellowship of the Ring,...  4.137925\n",
      "5346  Lord of the Rings: The Return of the King, The...  4.142382\n",
      "4651       My Neighbor Totoro (Tonari no Totoro) (1988)  4.149481\n",
      "962              Monty Python and the Holy Grail (1975)  4.174146\n",
      "1002                         Princess Bride, The (1987)  4.176732\n",
      "4461  Spirited Away (Sen to Chihiro no kamikakushi) ...  4.203810\n",
      "\n",
      "Top 10 Documentary films: \n",
      "                                                   title    rating\n",
      "3036                                      Baraka (1992)  4.051042\n",
      "2578                                       42 Up (1998)  4.070089\n",
      "1924                        Hands on a Hard Body (1996)  4.081409\n",
      "1154  Paradise Lost: The Child Murders at Robin Hood...  4.082967\n",
      "5349  Fog of War: Eleven Lessons from the Life of Ro...  4.103515\n",
      "8189                              Civil War, The (1990)  4.113281\n",
      "2389                           Stop Making Sense (1984)  4.128878\n",
      "995                          Thin Blue Line, The (1988)  4.128889\n",
      "964                           When We Were Kings (1996)  4.158416\n",
      "7819                                      Cosmos (1980)  4.220620\n",
      "\n",
      "Top 10 Animation films: \n",
      "                                                   title    rating\n",
      "1027    Grand Day Out with Wallace and Gromit, A (1989)  4.066765\n",
      "4512     Grave of the Fireflies (Hotaru no haka) (1988)  4.089744\n",
      "5317  Nausicaä of the Valley of the Wind (Kaze no ta...  4.092082\n",
      "2513           Princess Mononoke (Mononoke-hime) (1997)  4.096299\n",
      "635   Wallace & Gromit: The Best of Aardman Animatio...  4.109473\n",
      "2843                           Creature Comforts (1989)  4.120696\n",
      "4651       My Neighbor Totoro (Tonari no Totoro) (1988)  4.149481\n",
      "651              Wallace & Gromit: A Close Shave (1995)  4.167315\n",
      "965         Wallace & Gromit: The Wrong Trousers (1993)  4.181068\n",
      "4461  Spirited Away (Sen to Chihiro no kamikakushi) ...  4.203810\n",
      "\n",
      "Top 10 Horror films: \n",
      "                                                   title    rating\n",
      "6167                  Kingdom II, The (Riget II) (1997)  3.934783\n",
      "5515                        Kingdom, The (Riget) (1994)  3.970060\n",
      "1005                                      Aliens (1986)  4.005642\n",
      "7360  Let the Right One In (Låt den rätte komma in) ...  4.010526\n",
      "5324                Diabolique (Les diaboliques) (1955)  4.010932\n",
      "1060                                Shining, The (1980)  4.011534\n",
      "1018                                       Alien (1979)  4.041784\n",
      "2307                            Sixth Sense, The (1999)  4.054999\n",
      "1023                                      Psycho (1960)  4.076900\n",
      "545                    Silence of the Lambs, The (1991)  4.177057\n",
      "\n",
      "Top 10 Children films: \n",
      "                                                   title    rating\n",
      "7794                    How to Train Your Dragon (2010)  4.000420\n",
      "7847                                 Toy Story 3 (2010)  4.012974\n",
      "2346                          Christmas Story, A (1983)  4.030888\n",
      "7572                                          Up (2009)  4.038266\n",
      "7307                                      WALL·E (2008)  4.038929\n",
      "4861  Laputa: Castle in the Sky (Tenkû no shiro Rapy...  4.061917\n",
      "1027    Grand Day Out with Wallace and Gromit, A (1989)  4.066765\n",
      "4651       My Neighbor Totoro (Tonari no Totoro) (1988)  4.149481\n",
      "651              Wallace & Gromit: A Close Shave (1995)  4.167315\n",
      "965         Wallace & Gromit: The Wrong Trousers (1993)  4.181068\n",
      "\n",
      "Top 10 Mystery films: \n",
      "                            title    rating\n",
      "7863            Inception (2010)  4.156172\n",
      "4245  Rashomon (Rashômon) (1950)  4.176724\n",
      "3487              Memento (2000)  4.178547\n",
      "770   Maltese Falcon, The (1941)  4.187212\n",
      "1054            Chinatown (1974)  4.199673\n",
      "1086       Big Sleep, The (1946)  4.207361\n",
      "765    North by Northwest (1959)  4.233538\n",
      "1016       Third Man, The (1949)  4.246002\n",
      "761           Rear Window (1954)  4.271334\n",
      "47    Usual Suspects, The (1995)  4.334372\n",
      "\n",
      "Top 10 Musical films: \n",
      "                                       title    rating\n",
      "2233         Buena Vista Social Club (1999)  3.953637\n",
      "7014                            Once (2006)  3.957521\n",
      "776                Wizard of Oz, The (1939)  3.981681\n",
      "906                   Shall We Dance (1937)  3.988339\n",
      "5334           Night at the Opera, A (1935)  4.047280\n",
      "801                          Top Hat (1935)  4.058019\n",
      "7518  Dr. Horrible's Sing-Along Blog (2008)  4.068372\n",
      "756              Singin' in the Rain (1952)  4.080879\n",
      "2389               Stop Making Sense (1984)  4.128878\n",
      "1058                       Duck Soup (1933)  4.129646\n",
      "\n",
      "Top 10 War films: \n",
      "                                                   title    rating\n",
      "1036                       Boot, Das (Boat, The) (1981)  4.139730\n",
      "2626         Grand Illusion (La grande illusion) (1937)  4.150878\n",
      "1009                          Lawrence of Arabia (1962)  4.162102\n",
      "2532                                General, The (1926)  4.162770\n",
      "1021                                         Ran (1985)  4.173611\n",
      "1919         Life Is Beautiful (La Vita è bella) (1997)  4.175837\n",
      "985                               Paths of Glory (1957)  4.232623\n",
      "655   Dr. Strangelove or: How I Learned to Stop Worr...  4.247287\n",
      "5514                            Band of Brothers (2001)  4.263182\n",
      "490                             Schindler's List (1993)  4.310175\n",
      "\n",
      "Top 10 Drama films: \n",
      "                                               title    rating\n",
      "4677            City of God (Cidade de Deus) (2002)  4.235410\n",
      "999          One Flew Over the Cuckoo's Nest (1975)  4.248079\n",
      "779   Sunset Blvd. (a.k.a. Sunset Boulevard) (1950)  4.256935\n",
      "769                               Casablanca (1942)  4.258327\n",
      "5514                        Band of Brothers (2001)  4.263182\n",
      "1659    Seven Samurai (Shichinin no samurai) (1954)  4.274180\n",
      "1025                 Godfather: Part II, The (1974)  4.275641\n",
      "490                         Schindler's List (1993)  4.310175\n",
      "731                           Godfather, The (1972)  4.364732\n",
      "294                Shawshank Redemption, The (1994)  4.446990\n",
      "\n",
      "Top 10 Romance films: \n",
      "                                                   title    rating\n",
      "2756                                 City Lights (1931)  4.174123\n",
      "6117                    Decalogue, The (Dekalog) (1989)  4.174129\n",
      "1919         Life Is Beautiful (La Vita è bella) (1997)  4.175837\n",
      "1002                         Princess Bride, The (1987)  4.176732\n",
      "4048  Amelie (Fabuleux destin d'Amélie Poulain, Le) ...  4.197072\n",
      "786                                    Notorious (1946)  4.197790\n",
      "765                           North by Northwest (1959)  4.233538\n",
      "6687  Lives of Others, The (Das leben der Anderen) (...  4.234790\n",
      "779       Sunset Blvd. (a.k.a. Sunset Boulevard) (1950)  4.256935\n",
      "769                                   Casablanca (1942)  4.258327\n",
      "\n",
      "Top 10 Sci-Fi films: \n",
      "                                                   title    rating\n",
      "1027    Grand Day Out with Wallace and Gromit, A (1989)  4.066765\n",
      "7518              Dr. Horrible's Sing-Along Blog (2008)  4.068372\n",
      "5317  Nausicaä of the Valley of the Wind (Kaze no ta...  4.092082\n",
      "5458       Eternal Sunshine of the Spotless Mind (2004)  4.105628\n",
      "503                                 Blade Runner (1982)  4.133706\n",
      "7863                                   Inception (2010)  4.156172\n",
      "8219                                Black Mirror (2011)  4.182990\n",
      "2146                                 Matrix, The (1999)  4.187186\n",
      "1001  Star Wars: Episode V - The Empire Strikes Back...  4.188202\n",
      "239           Star Wars: Episode IV - A New Hope (1977)  4.190672\n",
      "\n",
      "Top 10 Thriller films: \n",
      "                                                   title    rating\n",
      "1062                                           M (1931)  4.193171\n",
      "786                                    Notorious (1946)  4.197790\n",
      "1054                                   Chinatown (1974)  4.199673\n",
      "2478                                  Fight Club (1999)  4.227123\n",
      "765                           North by Northwest (1959)  4.233538\n",
      "6687  Lives of Others, The (Das leben der Anderen) (...  4.234790\n",
      "4677                City of God (Cidade de Deus) (2002)  4.235410\n",
      "1016                              Third Man, The (1949)  4.246002\n",
      "761                                  Rear Window (1954)  4.271334\n",
      "47                           Usual Suspects, The (1995)  4.334372\n",
      "\n",
      "Top 10 Crime films: \n",
      "                                     title    rating\n",
      "1054                     Chinatown (1974)  4.199673\n",
      "1086                Big Sleep, The (1946)  4.207361\n",
      "7243              Dark Knight, The (2008)  4.220129\n",
      "2849              Double Indemnity (1944)  4.224282\n",
      "2478                    Fight Club (1999)  4.227123\n",
      "4677  City of God (Cidade de Deus) (2002)  4.235410\n",
      "1025       Godfather: Part II, The (1974)  4.275641\n",
      "47             Usual Suspects, The (1995)  4.334372\n",
      "731                 Godfather, The (1972)  4.364732\n",
      "294      Shawshank Redemption, The (1994)  4.446990\n",
      "\n"
     ]
    }
   ],
   "source": [
    "i = 0\n",
    "while i<len(unique_genres):\n",
    "    df1=box_office[(box_office['genres'].str.contains(unique_genres[i]))]\n",
    "    df2=df1.sort_values(by='rating')[-10:]\n",
    "    print('Top 10 {} films: \\n {}'.format(unique_genres[i],df2[['title','rating']]))\n",
    "    print()\n",
    "    i = i + 1"
   ]
  },
  {
   "cell_type": "code",
   "execution_count": null,
   "metadata": {},
   "outputs": [],
   "source": []
  },
  {
   "cell_type": "code",
   "execution_count": null,
   "metadata": {},
   "outputs": [],
   "source": []
  }
 ],
 "metadata": {
  "kernelspec": {
   "display_name": "Python 3",
   "language": "python",
   "name": "python3"
  },
  "language_info": {
   "codemirror_mode": {
    "name": "ipython",
    "version": 3
   },
   "file_extension": ".py",
   "mimetype": "text/x-python",
   "name": "python",
   "nbconvert_exporter": "python",
   "pygments_lexer": "ipython3",
   "version": "3.7.3"
  }
 },
 "nbformat": 4,
 "nbformat_minor": 2
}
