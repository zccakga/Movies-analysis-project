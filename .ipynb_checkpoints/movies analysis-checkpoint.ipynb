{
 "cells": [
  {
   "cell_type": "markdown",
   "metadata": {},
   "source": [
    "# Best films in every genre\n",
    "\n",
    "## *An analysis of a movie ratings dataset*"
   ]
  },
  {
   "cell_type": "code",
   "execution_count": 1,
   "metadata": {},
   "outputs": [],
   "source": [
    "%matplotlib inline\n",
    "import numpy as np\n",
    "import pandas as pd\n",
    "import matplotlib as plt"
   ]
  },
  {
   "cell_type": "markdown",
   "metadata": {},
   "source": [
    "<h3>Acquiring dataset</h3>\n",
    "\n",
    "Here are the links to the data source and location:\n",
    "* **Data Source:** MovieLens web site (filename: ml-20m.zip)\n",
    "* **Location:** https://grouplens.org/datasets/movielens/"
   ]
  },
  {
   "cell_type": "code",
   "execution_count": 2,
   "metadata": {},
   "outputs": [
    {
     "name": "stdout",
     "output_type": "stream",
     "text": [
      "README.txt        genome-tags.csv   movies.csv        tags.csv\r\n",
      "genome-scores.csv links.csv         ratings.csv\r\n"
     ]
    }
   ],
   "source": [
    "!ls ./database_from_movielens"
   ]
  },
  {
   "cell_type": "code",
   "execution_count": 233,
   "metadata": {},
   "outputs": [
    {
     "data": {
      "text/html": [
       "<div>\n",
       "<style scoped>\n",
       "    .dataframe tbody tr th:only-of-type {\n",
       "        vertical-align: middle;\n",
       "    }\n",
       "\n",
       "    .dataframe tbody tr th {\n",
       "        vertical-align: top;\n",
       "    }\n",
       "\n",
       "    .dataframe thead th {\n",
       "        text-align: right;\n",
       "    }\n",
       "</style>\n",
       "<table border=\"1\" class=\"dataframe\">\n",
       "  <thead>\n",
       "    <tr style=\"text-align: right;\">\n",
       "      <th></th>\n",
       "      <th>movieId</th>\n",
       "      <th>title</th>\n",
       "      <th>genres</th>\n",
       "    </tr>\n",
       "  </thead>\n",
       "  <tbody>\n",
       "    <tr>\n",
       "      <th>0</th>\n",
       "      <td>1</td>\n",
       "      <td>Toy Story (1995)</td>\n",
       "      <td>Adventure|Animation|Children|Comedy|Fantasy</td>\n",
       "    </tr>\n",
       "    <tr>\n",
       "      <th>1</th>\n",
       "      <td>2</td>\n",
       "      <td>Jumanji (1995)</td>\n",
       "      <td>Adventure|Children|Fantasy</td>\n",
       "    </tr>\n",
       "    <tr>\n",
       "      <th>2</th>\n",
       "      <td>3</td>\n",
       "      <td>Grumpier Old Men (1995)</td>\n",
       "      <td>Comedy|Romance</td>\n",
       "    </tr>\n",
       "    <tr>\n",
       "      <th>3</th>\n",
       "      <td>4</td>\n",
       "      <td>Waiting to Exhale (1995)</td>\n",
       "      <td>Comedy|Drama|Romance</td>\n",
       "    </tr>\n",
       "    <tr>\n",
       "      <th>4</th>\n",
       "      <td>5</td>\n",
       "      <td>Father of the Bride Part II (1995)</td>\n",
       "      <td>Comedy</td>\n",
       "    </tr>\n",
       "  </tbody>\n",
       "</table>\n",
       "</div>"
      ],
      "text/plain": [
       "   movieId                               title  \\\n",
       "0        1                    Toy Story (1995)   \n",
       "1        2                      Jumanji (1995)   \n",
       "2        3             Grumpier Old Men (1995)   \n",
       "3        4            Waiting to Exhale (1995)   \n",
       "4        5  Father of the Bride Part II (1995)   \n",
       "\n",
       "                                        genres  \n",
       "0  Adventure|Animation|Children|Comedy|Fantasy  \n",
       "1                   Adventure|Children|Fantasy  \n",
       "2                               Comedy|Romance  \n",
       "3                         Comedy|Drama|Romance  \n",
       "4                                       Comedy  "
      ]
     },
     "execution_count": 233,
     "metadata": {},
     "output_type": "execute_result"
    }
   ],
   "source": [
    "movies=pd.read_csv('./database_from_movielens/movies.csv',sep=',')\n",
    "movies.head(5)"
   ]
  },
  {
   "cell_type": "code",
   "execution_count": 4,
   "metadata": {},
   "outputs": [
    {
     "data": {
      "text/plain": [
       "(1743, 3)"
      ]
     },
     "execution_count": 4,
     "metadata": {},
     "output_type": "execute_result"
    }
   ],
   "source": [
    "#Extract only the movies that are in the sci-fi category\n",
    "sci_movies_filter=movies['genres'].str.contains('Sci-Fi')\n",
    "movies[sci_movies_filter].shape"
   ]
  },
  {
   "cell_type": "code",
   "execution_count": 5,
   "metadata": {},
   "outputs": [
    {
     "data": {
      "text/html": [
       "<div>\n",
       "<style scoped>\n",
       "    .dataframe tbody tr th:only-of-type {\n",
       "        vertical-align: middle;\n",
       "    }\n",
       "\n",
       "    .dataframe tbody tr th {\n",
       "        vertical-align: top;\n",
       "    }\n",
       "\n",
       "    .dataframe thead th {\n",
       "        text-align: right;\n",
       "    }\n",
       "</style>\n",
       "<table border=\"1\" class=\"dataframe\">\n",
       "  <thead>\n",
       "    <tr style=\"text-align: right;\">\n",
       "      <th></th>\n",
       "      <th>userId</th>\n",
       "      <th>movieId</th>\n",
       "      <th>tag</th>\n",
       "      <th>timestamp</th>\n",
       "    </tr>\n",
       "  </thead>\n",
       "  <tbody>\n",
       "    <tr>\n",
       "      <th>0</th>\n",
       "      <td>18</td>\n",
       "      <td>4141</td>\n",
       "      <td>Mark Waters</td>\n",
       "      <td>1240597180</td>\n",
       "    </tr>\n",
       "    <tr>\n",
       "      <th>1</th>\n",
       "      <td>65</td>\n",
       "      <td>208</td>\n",
       "      <td>dark hero</td>\n",
       "      <td>1368150078</td>\n",
       "    </tr>\n",
       "    <tr>\n",
       "      <th>2</th>\n",
       "      <td>65</td>\n",
       "      <td>353</td>\n",
       "      <td>dark hero</td>\n",
       "      <td>1368150079</td>\n",
       "    </tr>\n",
       "    <tr>\n",
       "      <th>3</th>\n",
       "      <td>65</td>\n",
       "      <td>521</td>\n",
       "      <td>noir thriller</td>\n",
       "      <td>1368149983</td>\n",
       "    </tr>\n",
       "    <tr>\n",
       "      <th>4</th>\n",
       "      <td>65</td>\n",
       "      <td>592</td>\n",
       "      <td>dark hero</td>\n",
       "      <td>1368150078</td>\n",
       "    </tr>\n",
       "  </tbody>\n",
       "</table>\n",
       "</div>"
      ],
      "text/plain": [
       "   userId  movieId            tag   timestamp\n",
       "0      18     4141    Mark Waters  1240597180\n",
       "1      65      208      dark hero  1368150078\n",
       "2      65      353      dark hero  1368150079\n",
       "3      65      521  noir thriller  1368149983\n",
       "4      65      592      dark hero  1368150078"
      ]
     },
     "execution_count": 5,
     "metadata": {},
     "output_type": "execute_result"
    }
   ],
   "source": [
    "tags=pd.read_csv('./database_from_movielens/tags.csv',sep=',')\n",
    "tags.head()"
   ]
  },
  {
   "cell_type": "code",
   "execution_count": 6,
   "metadata": {},
   "outputs": [
    {
     "data": {
      "text/html": [
       "<div>\n",
       "<style scoped>\n",
       "    .dataframe tbody tr th:only-of-type {\n",
       "        vertical-align: middle;\n",
       "    }\n",
       "\n",
       "    .dataframe tbody tr th {\n",
       "        vertical-align: top;\n",
       "    }\n",
       "\n",
       "    .dataframe thead th {\n",
       "        text-align: right;\n",
       "    }\n",
       "</style>\n",
       "<table border=\"1\" class=\"dataframe\">\n",
       "  <thead>\n",
       "    <tr style=\"text-align: right;\">\n",
       "      <th></th>\n",
       "      <th>userId</th>\n",
       "      <th>movieId</th>\n",
       "      <th>rating</th>\n",
       "      <th>timestamp</th>\n",
       "    </tr>\n",
       "  </thead>\n",
       "  <tbody>\n",
       "    <tr>\n",
       "      <th>0</th>\n",
       "      <td>1</td>\n",
       "      <td>2</td>\n",
       "      <td>3.5</td>\n",
       "      <td>1112486027</td>\n",
       "    </tr>\n",
       "    <tr>\n",
       "      <th>1</th>\n",
       "      <td>1</td>\n",
       "      <td>29</td>\n",
       "      <td>3.5</td>\n",
       "      <td>1112484676</td>\n",
       "    </tr>\n",
       "    <tr>\n",
       "      <th>2</th>\n",
       "      <td>1</td>\n",
       "      <td>32</td>\n",
       "      <td>3.5</td>\n",
       "      <td>1112484819</td>\n",
       "    </tr>\n",
       "    <tr>\n",
       "      <th>3</th>\n",
       "      <td>1</td>\n",
       "      <td>47</td>\n",
       "      <td>3.5</td>\n",
       "      <td>1112484727</td>\n",
       "    </tr>\n",
       "    <tr>\n",
       "      <th>4</th>\n",
       "      <td>1</td>\n",
       "      <td>50</td>\n",
       "      <td>3.5</td>\n",
       "      <td>1112484580</td>\n",
       "    </tr>\n",
       "  </tbody>\n",
       "</table>\n",
       "</div>"
      ],
      "text/plain": [
       "   userId  movieId  rating   timestamp\n",
       "0       1        2     3.5  1112486027\n",
       "1       1       29     3.5  1112484676\n",
       "2       1       32     3.5  1112484819\n",
       "3       1       47     3.5  1112484727\n",
       "4       1       50     3.5  1112484580"
      ]
     },
     "execution_count": 6,
     "metadata": {},
     "output_type": "execute_result"
    }
   ],
   "source": [
    "ratings=pd.read_csv('./database_from_movielens/ratings.csv',sep=',')\n",
    "ratings.head()"
   ]
  },
  {
   "cell_type": "code",
   "execution_count": 13,
   "metadata": {},
   "outputs": [
    {
     "data": {
      "text/plain": [
       "count    2.000026e+07\n",
       "mean     3.525529e+00\n",
       "std      1.051989e+00\n",
       "min      5.000000e-01\n",
       "25%      3.000000e+00\n",
       "50%      3.500000e+00\n",
       "75%      4.000000e+00\n",
       "max      5.000000e+00\n",
       "Name: rating, dtype: float64"
      ]
     },
     "execution_count": 13,
     "metadata": {},
     "output_type": "execute_result"
    }
   ],
   "source": [
    "ratings['rating'].describe()"
   ]
  },
  {
   "cell_type": "code",
   "execution_count": 74,
   "metadata": {},
   "outputs": [
    {
     "data": {
      "text/plain": [
       "sci-fi             3384\n",
       "based on a book    3281\n",
       "atmospheric        2917\n",
       "comedy             2779\n",
       "action             2657\n",
       "surreal            2427\n",
       "BD-R               2334\n",
       "twist ending       2323\n",
       "funny              2072\n",
       "dystopia           1991\n",
       "Name: tag, dtype: int64"
      ]
     },
     "execution_count": 74,
     "metadata": {},
     "output_type": "execute_result"
    }
   ],
   "source": [
    "tag_count=tags['tag'].value_counts()\n",
    "tag_count[:10]"
   ]
  },
  {
   "cell_type": "markdown",
   "metadata": {},
   "source": [
    "## Cleaning data"
   ]
  },
  {
   "cell_type": "code",
   "execution_count": 9,
   "metadata": {},
   "outputs": [
    {
     "data": {
      "text/plain": [
       "movieId    False\n",
       "title      False\n",
       "genres     False\n",
       "dtype: bool"
      ]
     },
     "execution_count": 9,
     "metadata": {},
     "output_type": "execute_result"
    }
   ],
   "source": [
    "#Check if any row is null in movies\n",
    "movies.isnull().any()"
   ]
  },
  {
   "cell_type": "code",
   "execution_count": 10,
   "metadata": {},
   "outputs": [
    {
     "data": {
      "text/plain": [
       "userId       False\n",
       "movieId      False\n",
       "rating       False\n",
       "timestamp    False\n",
       "dtype: bool"
      ]
     },
     "execution_count": 10,
     "metadata": {},
     "output_type": "execute_result"
    }
   ],
   "source": [
    "#Check if any row is null in ratings\n",
    "ratings.isnull().any()"
   ]
  },
  {
   "cell_type": "markdown",
   "metadata": {},
   "source": [
    "## Exploring the genres"
   ]
  },
  {
   "cell_type": "code",
   "execution_count": 236,
   "metadata": {},
   "outputs": [
    {
     "data": {
      "text/plain": [
       "['Adventure',\n",
       " 'Comedy',\n",
       " 'Western',\n",
       " 'Action',\n",
       " 'Film-Noir',\n",
       " 'IMAX',\n",
       " 'Fantasy',\n",
       " 'Documentary',\n",
       " 'Animation',\n",
       " 'Horror',\n",
       " 'Children',\n",
       " 'Mystery',\n",
       " 'Musical',\n",
       " 'War',\n",
       " 'Drama',\n",
       " 'Romance',\n",
       " 'Sci-Fi',\n",
       " 'Thriller',\n",
       " 'Crime']"
      ]
     },
     "execution_count": 236,
     "metadata": {},
     "output_type": "execute_result"
    }
   ],
   "source": [
    "#Find the unique genres\n",
    "movie_genres=movies['genres'].str.cat(sep=',')\n",
    "string_movie_genres=movie_genres.replace('|',',')\n",
    "list_movie_genres=string_movie_genres.split(',')\n",
    "unique_genres=list(set(list_movie_genres))\n",
    "unique_genres.remove('(no genres listed)')\n",
    "unique_genres"
   ]
  },
  {
   "cell_type": "code",
   "execution_count": 44,
   "metadata": {},
   "outputs": [
    {
     "data": {
      "text/html": [
       "<div>\n",
       "<style scoped>\n",
       "    .dataframe tbody tr th:only-of-type {\n",
       "        vertical-align: middle;\n",
       "    }\n",
       "\n",
       "    .dataframe tbody tr th {\n",
       "        vertical-align: top;\n",
       "    }\n",
       "\n",
       "    .dataframe thead th {\n",
       "        text-align: right;\n",
       "    }\n",
       "</style>\n",
       "<table border=\"1\" class=\"dataframe\">\n",
       "  <thead>\n",
       "    <tr style=\"text-align: right;\">\n",
       "      <th></th>\n",
       "      <th>Counts</th>\n",
       "    </tr>\n",
       "  </thead>\n",
       "  <tbody>\n",
       "    <tr>\n",
       "      <th>Drama</th>\n",
       "      <td>13344</td>\n",
       "    </tr>\n",
       "    <tr>\n",
       "      <th>Comedy</th>\n",
       "      <td>8374</td>\n",
       "    </tr>\n",
       "    <tr>\n",
       "      <th>Thriller</th>\n",
       "      <td>4178</td>\n",
       "    </tr>\n",
       "    <tr>\n",
       "      <th>Romance</th>\n",
       "      <td>4127</td>\n",
       "    </tr>\n",
       "    <tr>\n",
       "      <th>Action</th>\n",
       "      <td>3520</td>\n",
       "    </tr>\n",
       "    <tr>\n",
       "      <th>Crime</th>\n",
       "      <td>2939</td>\n",
       "    </tr>\n",
       "    <tr>\n",
       "      <th>Horror</th>\n",
       "      <td>2611</td>\n",
       "    </tr>\n",
       "    <tr>\n",
       "      <th>Documentary</th>\n",
       "      <td>2471</td>\n",
       "    </tr>\n",
       "    <tr>\n",
       "      <th>Adventure</th>\n",
       "      <td>2329</td>\n",
       "    </tr>\n",
       "    <tr>\n",
       "      <th>Sci-Fi</th>\n",
       "      <td>1743</td>\n",
       "    </tr>\n",
       "    <tr>\n",
       "      <th>Mystery</th>\n",
       "      <td>1514</td>\n",
       "    </tr>\n",
       "    <tr>\n",
       "      <th>Fantasy</th>\n",
       "      <td>1412</td>\n",
       "    </tr>\n",
       "    <tr>\n",
       "      <th>War</th>\n",
       "      <td>1194</td>\n",
       "    </tr>\n",
       "    <tr>\n",
       "      <th>Children</th>\n",
       "      <td>1139</td>\n",
       "    </tr>\n",
       "    <tr>\n",
       "      <th>Musical</th>\n",
       "      <td>1036</td>\n",
       "    </tr>\n",
       "    <tr>\n",
       "      <th>Animation</th>\n",
       "      <td>1027</td>\n",
       "    </tr>\n",
       "    <tr>\n",
       "      <th>Western</th>\n",
       "      <td>676</td>\n",
       "    </tr>\n",
       "    <tr>\n",
       "      <th>Film-Noir</th>\n",
       "      <td>330</td>\n",
       "    </tr>\n",
       "    <tr>\n",
       "      <th>(no genres listed)</th>\n",
       "      <td>246</td>\n",
       "    </tr>\n",
       "    <tr>\n",
       "      <th>IMAX</th>\n",
       "      <td>196</td>\n",
       "    </tr>\n",
       "  </tbody>\n",
       "</table>\n",
       "</div>"
      ],
      "text/plain": [
       "                    Counts\n",
       "Drama                13344\n",
       "Comedy                8374\n",
       "Thriller              4178\n",
       "Romance               4127\n",
       "Action                3520\n",
       "Crime                 2939\n",
       "Horror                2611\n",
       "Documentary           2471\n",
       "Adventure             2329\n",
       "Sci-Fi                1743\n",
       "Mystery               1514\n",
       "Fantasy               1412\n",
       "War                   1194\n",
       "Children              1139\n",
       "Musical               1036\n",
       "Animation             1027\n",
       "Western                676\n",
       "Film-Noir              330\n",
       "(no genres listed)     246\n",
       "IMAX                   196"
      ]
     },
     "execution_count": 44,
     "metadata": {},
     "output_type": "execute_result"
    }
   ],
   "source": [
    "#Find the number of counts for each genre\n",
    "count_dict={}\n",
    "for g in unique_genres:\n",
    "    counts=list_movie_genres.count(g)\n",
    "    count_dict[g]=counts\n",
    "genre_counts=pd.DataFrame.from_dict(count_dict,orient='index',columns=['Counts'])\n",
    "genre_counts.sort_values(by=['Counts'], inplace=True,ascending=False)\n",
    "genre_counts"
   ]
  },
  {
   "cell_type": "code",
   "execution_count": 163,
   "metadata": {},
   "outputs": [
    {
     "data": {
      "text/plain": [
       "(27032, 3)"
      ]
     },
     "execution_count": 163,
     "metadata": {},
     "output_type": "execute_result"
    }
   ],
   "source": [
    "#delete the rows in movies that have no genres listed\n",
    "no_genre_filter=movies['genres'].str.contains('no genres listed')==False\n",
    "movies=movies[no_genre_filter]\n",
    "movies.shape"
   ]
  },
  {
   "cell_type": "code",
   "execution_count": 158,
   "metadata": {},
   "outputs": [],
   "source": [
    "#find all the films that have been rated more than a hundred times\n",
    "rating_count=ratings[['movieId','rating']].groupby('movieId', as_index=False).count()\n",
    "rating_count_filter=rating_count['rating']>100"
   ]
  },
  {
   "cell_type": "code",
   "execution_count": 159,
   "metadata": {},
   "outputs": [],
   "source": [
    "#get the average rating for each movie and apply the rating count filter\n",
    "avg_ratings = ratings.groupby('movieId', as_index=False).mean() #Don't make movieId the index\n",
    "del avg_ratings['timestamp']\n",
    "del avg_ratings['userId']\n",
    "filt_avg_ratings=avg_ratings[rating_count_filter]"
   ]
  },
  {
   "cell_type": "code",
   "execution_count": 160,
   "metadata": {},
   "outputs": [
    {
     "data": {
      "text/html": [
       "<div>\n",
       "<style scoped>\n",
       "    .dataframe tbody tr th:only-of-type {\n",
       "        vertical-align: middle;\n",
       "    }\n",
       "\n",
       "    .dataframe tbody tr th {\n",
       "        vertical-align: top;\n",
       "    }\n",
       "\n",
       "    .dataframe thead th {\n",
       "        text-align: right;\n",
       "    }\n",
       "</style>\n",
       "<table border=\"1\" class=\"dataframe\">\n",
       "  <thead>\n",
       "    <tr style=\"text-align: right;\">\n",
       "      <th></th>\n",
       "      <th>movieId</th>\n",
       "      <th>title</th>\n",
       "      <th>genres</th>\n",
       "    </tr>\n",
       "  </thead>\n",
       "  <tbody>\n",
       "    <tr>\n",
       "      <th>0</th>\n",
       "      <td>1</td>\n",
       "      <td>Toy Story (1995)</td>\n",
       "      <td>Adventure|Animation|Children|Comedy|Fantasy</td>\n",
       "    </tr>\n",
       "    <tr>\n",
       "      <th>1</th>\n",
       "      <td>2</td>\n",
       "      <td>Jumanji (1995)</td>\n",
       "      <td>Adventure|Children|Fantasy</td>\n",
       "    </tr>\n",
       "    <tr>\n",
       "      <th>2</th>\n",
       "      <td>3</td>\n",
       "      <td>Grumpier Old Men (1995)</td>\n",
       "      <td>Comedy|Romance</td>\n",
       "    </tr>\n",
       "    <tr>\n",
       "      <th>3</th>\n",
       "      <td>4</td>\n",
       "      <td>Waiting to Exhale (1995)</td>\n",
       "      <td>Comedy|Drama|Romance</td>\n",
       "    </tr>\n",
       "    <tr>\n",
       "      <th>4</th>\n",
       "      <td>5</td>\n",
       "      <td>Father of the Bride Part II (1995)</td>\n",
       "      <td>Comedy</td>\n",
       "    </tr>\n",
       "  </tbody>\n",
       "</table>\n",
       "</div>"
      ],
      "text/plain": [
       "   movieId                               title  \\\n",
       "0        1                    Toy Story (1995)   \n",
       "1        2                      Jumanji (1995)   \n",
       "2        3             Grumpier Old Men (1995)   \n",
       "3        4            Waiting to Exhale (1995)   \n",
       "4        5  Father of the Bride Part II (1995)   \n",
       "\n",
       "                                        genres  \n",
       "0  Adventure|Animation|Children|Comedy|Fantasy  \n",
       "1                   Adventure|Children|Fantasy  \n",
       "2                               Comedy|Romance  \n",
       "3                         Comedy|Drama|Romance  \n",
       "4                                       Comedy  "
      ]
     },
     "execution_count": 160,
     "metadata": {},
     "output_type": "execute_result"
    }
   ],
   "source": [
    "movies.head()"
   ]
  },
  {
   "cell_type": "code",
   "execution_count": 164,
   "metadata": {},
   "outputs": [
    {
     "data": {
      "text/plain": [
       "(8532, 4)"
      ]
     },
     "execution_count": 164,
     "metadata": {},
     "output_type": "execute_result"
    }
   ],
   "source": [
    "#merge movies df and filtered average ratings df\n",
    "box_office=movies.merge(filt_avg_ratings,on='movieId',how='inner')\n",
    "box_office.shape"
   ]
  },
  {
   "cell_type": "code",
   "execution_count": 216,
   "metadata": {},
   "outputs": [],
   "source": [
    "drama_filter = box_office['genres'].str.contains('Drama')\n",
    "drama=box_office[drama_filter]\n",
    "#drama_10=drama.sort_values(by=['rating'],ascending=False)[:10]\n",
    "#print('Top 10 drama films {}'.format(drama_10['title']))"
   ]
  },
  {
   "cell_type": "code",
   "execution_count": 206,
   "metadata": {},
   "outputs": [],
   "source": [
    "test=['Adventure']\n",
    "for g in test:\n",
    "    genre_filter=box_office['genres'].str.contains('g')\n",
    "    genre=box_office['genres'].str.contains('g')\n",
    "    #genre_10=genre.sort_values(by='rating',ascending='False')[:10]\n",
    "    #print('Top 10 {} films {}'.format(g,genre_10['title']))"
   ]
  },
  {
   "cell_type": "code",
   "execution_count": 237,
   "metadata": {
    "scrolled": false
   },
   "outputs": [
    {
     "name": "stdout",
     "output_type": "stream",
     "text": [
      "Top 10 Adventure films: \n",
      " 1489                      Barney's Great Adventure (1998)\n",
      "6340                               Son of the Mask (2005)\n",
      "4499    Pokemon 4 Ever (a.k.a. Pokémon 4: The Movie) (...\n",
      "1258                  Turbo: A Power Rangers Movie (1997)\n",
      "5881                                     Yu-Gi-Oh! (2004)\n",
      "Name: title, dtype: object\n",
      "\n",
      "Top 10 Comedy films: \n",
      " 5897    SuperBabies: Baby Geniuses 2 (2004)\n",
      "7061                Bratz: The Movie (2007)\n",
      "4991                           Gigli (2003)\n",
      "7369                  Disaster Movie (2008)\n",
      "6340                 Son of the Mask (2005)\n",
      "Name: title, dtype: object\n",
      "\n",
      "Top 10 Western films: \n",
      " 4357       Wagons East (1994)\n",
      "2252    Wild Wild West (1999)\n",
      "7845         Jonah Hex (2010)\n",
      "4038     Texas Rangers (2001)\n",
      "4420    Love Me Tender (1956)\n",
      "Name: title, dtype: object\n",
      "\n",
      "Top 10 Action films: \n",
      " 5151                  House of the Dead, The (2003)\n",
      "1258            Turbo: A Power Rangers Movie (1997)\n",
      "5881                               Yu-Gi-Oh! (2004)\n",
      "6317                       Alone in the Dark (2005)\n",
      "1440    3 Ninjas: High Noon On Mega Mountain (1998)\n",
      "Name: title, dtype: object\n",
      "\n",
      "Top 10 Film-Noir films: \n",
      " 1648    This World, Then the Fireworks (1997)\n",
      "1335                           Hoodlum (1997)\n",
      "7922                            Rubber (2010)\n",
      "7589            Limits of Control, The (2009)\n",
      "3693                            D.O.A. (1988)\n",
      "Name: title, dtype: object\n",
      "\n",
      "Top 10 IMAX films: \n",
      " 8370                      After Earth (2013)\n",
      "3654    T-Rex: Back to the Cretaceous (1998)\n",
      "8334          Good Day to Die Hard, A (2013)\n",
      "7855      Twilight Saga: Eclipse, The (2010)\n",
      "6726                         Poseidon (2006)\n",
      "Name: title, dtype: object\n",
      "\n",
      "Top 10 Fantasy films: \n",
      " 6340                               Son of the Mask (2005)\n",
      "4499    Pokemon 4 Ever (a.k.a. Pokémon 4: The Movie) (...\n",
      "5881                                     Yu-Gi-Oh! (2004)\n",
      "6633                                    BloodRayne (2005)\n",
      "7187                           D-War (Dragon Wars) (2007)\n",
      "Name: title, dtype: object\n",
      "\n",
      "Top 10 Documentary films: \n",
      " 4531                    Faces of Death 6 (1996)\n",
      "4530                    Faces of Death 5 (1996)\n",
      "4532    Faces of Death: Fact or Fiction? (1999)\n",
      "4529                    Faces of Death 4 (1990)\n",
      "4528                    Faces of Death 3 (1985)\n",
      "Name: title, dtype: object\n",
      "\n",
      "Top 10 Animation films: \n",
      " 4871                                Pokémon Heroes (2003)\n",
      "4499    Pokemon 4 Ever (a.k.a. Pokémon 4: The Movie) (...\n",
      "5881                                     Yu-Gi-Oh! (2004)\n",
      "3501                          Pokémon 3: The Movie (2001)\n",
      "3264                            Digimon: The Movie (2000)\n",
      "Name: title, dtype: object\n",
      "\n",
      "Top 10 Horror films: \n",
      " 2960         Carnosaur 3: Primal Species (1996)\n",
      "4531                    Faces of Death 6 (1996)\n",
      "4530                    Faces of Death 5 (1996)\n",
      "4532    Faces of Death: Fact or Fiction? (1999)\n",
      "5151              House of the Dead, The (2003)\n",
      "Name: title, dtype: object\n",
      "\n",
      "Top 10 Children films: \n",
      " 1489                      Barney's Great Adventure (1998)\n",
      "4871                                Pokémon Heroes (2003)\n",
      "6340                               Son of the Mask (2005)\n",
      "4499    Pokemon 4 Ever (a.k.a. Pokémon 4: The Movie) (...\n",
      "1258                  Turbo: A Power Rangers Movie (1997)\n",
      "Name: title, dtype: object\n",
      "\n",
      "Top 10 Mystery films: \n",
      " 4388           Master of Disguise, The (2002)\n",
      "1130                       Blood Beach (1981)\n",
      "3291    Book of Shadows: Blair Witch 2 (2000)\n",
      "7273                        Prom Night (2008)\n",
      "6804                   Wicker Man, The (2006)\n",
      "Name: title, dtype: object\n",
      "\n",
      "Top 10 Musical films: \n",
      " 4933    From Justin to Kelly (2003)\n",
      "3911                 Glitter (2001)\n",
      "4143              Crossroads (2002)\n",
      "1170                Grease 2 (1982)\n",
      "3952    Can't Stop the Music (1980)\n",
      "Name: title, dtype: object\n",
      "\n",
      "Top 10 War films: \n",
      " 2358                                 Iron Eagle IV (1995)\n",
      "5414                                  Best Defense (1984)\n",
      "2356                                 Iron Eagle II (1988)\n",
      "6239    Starship Troopers 2: Hero of the Federation (2...\n",
      "3120            Missing in Action 2: The Beginning (1985)\n",
      "Name: title, dtype: object\n",
      "\n",
      "Top 10 Drama films: \n",
      " 3911                       Glitter (2001)\n",
      "2810             Shanghai Surprise (1986)\n",
      "1979    Jerry Springer: Ringmaster (1998)\n",
      "2851                   Cool as Ice (1991)\n",
      "1329      Free Willy 3: The Rescue (1997)\n",
      "Name: title, dtype: object\n",
      "\n",
      "Top 10 Romance films: \n",
      " 4933    From Justin to Kelly (2003)\n",
      "3911                 Glitter (2001)\n",
      "4991                   Gigli (2003)\n",
      "2810       Shanghai Surprise (1986)\n",
      "6667              Date Movie (2006)\n",
      "Name: title, dtype: object\n",
      "\n",
      "Top 10 Sci-Fi films: \n",
      " 2960    Carnosaur 3: Primal Species (1996)\n",
      "2959                    Carnosaur 2 (1995)\n",
      "6317              Alone in the Dark (2005)\n",
      "3409                 Leonard Part 6 (1987)\n",
      "2973              Battlefield Earth (2000)\n",
      "Name: title, dtype: object\n",
      "\n",
      "Top 10 Thriller films: \n",
      " 6317                             Alone in the Dark (2005)\n",
      "3025            Puppet Master 5: The Final Chapter (1994)\n",
      "2492                                          Bats (1999)\n",
      "3026    Curse of the Puppet Master (Puppet Master 6: T...\n",
      "7056                          I Know Who Killed Me (2007)\n",
      "Name: title, dtype: object\n",
      "\n",
      "Top 10 Crime films: \n",
      " 4991                                 Gigli (2003)\n",
      "2810                     Shanghai Surprise (1986)\n",
      "7993                          Home Alone 4 (2002)\n",
      "5747     Police Academy: Mission to Moscow (1994)\n",
      "1976    Police Academy 6: City Under Siege (1989)\n",
      "Name: title, dtype: object\n",
      "\n"
     ]
    }
   ],
   "source": [
    "i = 0\n",
    "while i<len(unique_genres):\n",
    "    df1=box_office[(box_office['genres'].str.contains(unique_genres[i]))]\n",
    "    df2=df1.sort_values(by='rating',ascending='False')[:5]\n",
    "    print('Top 10 {} films: \\n {}'.format(unique_genres[i],df2['title']))\n",
    "    print()\n",
    "    i = i + 1"
   ]
  },
  {
   "cell_type": "code",
   "execution_count": null,
   "metadata": {},
   "outputs": [],
   "source": []
  },
  {
   "cell_type": "code",
   "execution_count": null,
   "metadata": {},
   "outputs": [],
   "source": []
  }
 ],
 "metadata": {
  "kernelspec": {
   "display_name": "Python 3",
   "language": "python",
   "name": "python3"
  },
  "language_info": {
   "codemirror_mode": {
    "name": "ipython",
    "version": 3
   },
   "file_extension": ".py",
   "mimetype": "text/x-python",
   "name": "python",
   "nbconvert_exporter": "python",
   "pygments_lexer": "ipython3",
   "version": "3.7.3"
  }
 },
 "nbformat": 4,
 "nbformat_minor": 2
}
